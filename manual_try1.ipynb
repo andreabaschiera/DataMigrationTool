{
 "cells": [
  {
   "cell_type": "code",
   "execution_count": null,
   "id": "3ee6f8de",
   "metadata": {},
   "outputs": [],
   "source": [
    "# !pip install openpyxl\n",
    "from openpyxl import load_workbook"
   ]
  },
  {
   "cell_type": "code",
   "execution_count": null,
   "id": "404528af",
   "metadata": {},
   "outputs": [],
   "source": [
    "# !pip install numpy\n",
    "# !pip install pandas\n",
    "import numpy as np\n",
    "import pandas as pd"
   ]
  },
  {
   "cell_type": "code",
   "execution_count": null,
   "id": "15901d50",
   "metadata": {},
   "outputs": [],
   "source": [
    "# loading workbook and accessing NRs as lists\n",
    "a = load_workbook(\"Template/template 1.0.0.xlsx\")"
   ]
  },
  {
   "cell_type": "code",
   "execution_count": 6,
   "id": "6a8e0141",
   "metadata": {},
   "outputs": [],
   "source": [
    "# accessing NRs as lists\n",
    "all_NRs = a.defined_names\n",
    "list_NRs = list(a.defined_names.keys())"
   ]
  },
  {
   "cell_type": "code",
   "execution_count": 9,
   "id": "fcf1e8bd",
   "metadata": {},
   "outputs": [],
   "source": [
    "# Iterating over NRs and accessing their attributes, storing in dict\n",
    "dict_of_cell_references = {}\n",
    "for NR in list_NRs:\n",
    "    dict_of_cell_references[NR] = all_NRs[NR].attr_text.split(\"!\")[1]"
   ]
  },
  {
   "cell_type": "code",
   "execution_count": 11,
   "id": "0f91a173",
   "metadata": {},
   "outputs": [
    {
     "data": {
      "text/plain": [
       "1"
      ]
     },
     "execution_count": 11,
     "metadata": {},
     "output_type": "execute_result"
    }
   ],
   "source": [
    "def letter_to_number(col):\n",
    "    col = col.upper()\n",
    "    n = 0\n",
    "    for c in col:\n",
    "        if not (\"A\" <= c <= \"Z\"):\n",
    "            raise ValueError(f\"Invalid column letter: {col}\")\n",
    "        n = n * 26 + (ord(c) - ord(\"A\") + 1)\n",
    "    return n\n",
    "\n",
    "# examples\n",
    "letter_to_number(\"A\")   # 1"
   ]
  },
  {
   "cell_type": "code",
   "execution_count": null,
   "id": "e3a1dcfd",
   "metadata": {},
   "outputs": [],
   "source": [
    "# Creating shapes of the cell references from ranges\n",
    "dict_of_cell_shapes = {}\n",
    "for i in dict_of_cell_references.keys():\n",
    "    a = dict_of_cell_references[i].split(\"$\")[1:]\n",
    "    for j in range(len(a)):\n",
    "        if j % 2 != 1:\n",
    "            a[j] = letter_to_number(a[j])\n",
    "    if( len(a) == 4 ):\n",
    "        a[1] = a[1][:-1]\n",
    "    dict_of_cell_shapes[i] = a\n",
    "\n",
    "dict_of_cell_shapes"
   ]
  },
  {
   "cell_type": "code",
   "execution_count": null,
   "id": "ebf721dc",
   "metadata": {},
   "outputs": [],
   "source": [
    "df = pd.DataFrame({\n",
    "    \"name_ranges\": list_NRs,\n",
    "    \"cell_references\": list(dict_of_cell_references.values()),\n",
    "    \"cell_shapes\": list(dict_of_cell_shapes.values()),\n",
    "})\n",
    "df"
   ]
  },
  {
   "cell_type": "code",
   "execution_count": null,
   "id": "ac2ec65b",
   "metadata": {},
   "outputs": [],
   "source": [
    "# condition for seeing whether cell reference is a formula\n",
    "a[\"Social Disclosures\"].cell(row=46, column=4).data_type == \"f\"  # True"
   ]
  },
  {
   "cell_type": "code",
   "execution_count": null,
   "id": "cd85fcb9",
   "metadata": {},
   "outputs": [],
   "source": [
    "n = 0\n",
    "for i in range(1, 10):\n",
    "    print(n)\n",
    "    print(type(n))\n",
    "    n += 1"
   ]
  },
  {
   "cell_type": "code",
   "execution_count": 105,
   "id": "56f47bfa",
   "metadata": {},
   "outputs": [],
   "source": [
    "with_data = load_workbook(\"with_data.xlsx\")\n",
    "empty = load_workbook(\"empty.xlsx\")\n",
    "NR_old = with_data.defined_names\n",
    "list_NR_old = list(with_data.defined_names.keys())\n",
    "NR_new = empty.defined_names\n",
    "list_NR_new = list(empty.defined_names.keys())"
   ]
  },
  {
   "cell_type": "code",
   "execution_count": 106,
   "id": "a4535f1a",
   "metadata": {},
   "outputs": [
    {
     "data": {
      "text/html": [
       "<div>\n",
       "<style scoped>\n",
       "    .dataframe tbody tr th:only-of-type {\n",
       "        vertical-align: middle;\n",
       "    }\n",
       "\n",
       "    .dataframe tbody tr th {\n",
       "        vertical-align: top;\n",
       "    }\n",
       "\n",
       "    .dataframe thead th {\n",
       "        text-align: right;\n",
       "    }\n",
       "</style>\n",
       "<table border=\"1\" class=\"dataframe\">\n",
       "  <thead>\n",
       "    <tr style=\"text-align: right;\">\n",
       "      <th></th>\n",
       "      <th>name_ranges</th>\n",
       "      <th>cell_references</th>\n",
       "      <th>cell_shapes</th>\n",
       "    </tr>\n",
       "  </thead>\n",
       "  <tbody>\n",
       "    <tr>\n",
       "      <th>0</th>\n",
       "      <td>number</td>\n",
       "      <td>$D$3</td>\n",
       "      <td>[4, 3]</td>\n",
       "    </tr>\n",
       "    <tr>\n",
       "      <th>1</th>\n",
       "      <td>stringa</td>\n",
       "      <td>$F$3:$F$6</td>\n",
       "      <td>[6, 3, 6, 6]</td>\n",
       "    </tr>\n",
       "  </tbody>\n",
       "</table>\n",
       "</div>"
      ],
      "text/plain": [
       "  name_ranges cell_references   cell_shapes\n",
       "0      number            $D$3        [4, 3]\n",
       "1     stringa       $F$3:$F$6  [6, 3, 6, 6]"
      ]
     },
     "execution_count": 106,
     "metadata": {},
     "output_type": "execute_result"
    }
   ],
   "source": [
    "references_old = []\n",
    "for NR in NR_old:\n",
    "    references_old.append(NR_old[NR].attr_text.split(\"!\")[1])\n",
    "\n",
    "shapes_old = []\n",
    "for i in range(len(list_NR_old)):\n",
    "    a = references_old[i].split(\"$\")[1:]\n",
    "    for j in range(len(a)):\n",
    "        if j % 2 != 1:\n",
    "            a[j] = letter_to_number(a[j])\n",
    "    if( len(a) == 4 ):\n",
    "        a[1] = a[1][:-1]\n",
    "    a = [int(ciao) for ciao in a]\n",
    "    shapes_old.append(a)\n",
    "\n",
    "df_old = pd.DataFrame({\n",
    "    \"name_ranges\": list_NR_old,\n",
    "    \"cell_references\": references_old,\n",
    "    \"cell_shapes\": shapes_old,\n",
    "})\n",
    "df_old"
   ]
  },
  {
   "cell_type": "code",
   "execution_count": 107,
   "id": "e966ce54",
   "metadata": {},
   "outputs": [
    {
     "data": {
      "text/html": [
       "<div>\n",
       "<style scoped>\n",
       "    .dataframe tbody tr th:only-of-type {\n",
       "        vertical-align: middle;\n",
       "    }\n",
       "\n",
       "    .dataframe tbody tr th {\n",
       "        vertical-align: top;\n",
       "    }\n",
       "\n",
       "    .dataframe thead th {\n",
       "        text-align: right;\n",
       "    }\n",
       "</style>\n",
       "<table border=\"1\" class=\"dataframe\">\n",
       "  <thead>\n",
       "    <tr style=\"text-align: right;\">\n",
       "      <th></th>\n",
       "      <th>name_ranges</th>\n",
       "      <th>cell_references</th>\n",
       "      <th>cell_shapes</th>\n",
       "      <th>cell_values</th>\n",
       "    </tr>\n",
       "  </thead>\n",
       "  <tbody>\n",
       "    <tr>\n",
       "      <th>0</th>\n",
       "      <td>number</td>\n",
       "      <td>$D$3</td>\n",
       "      <td>[4, 3]</td>\n",
       "      <td>[56]</td>\n",
       "    </tr>\n",
       "    <tr>\n",
       "      <th>1</th>\n",
       "      <td>stringa</td>\n",
       "      <td>$F$3:$F$6</td>\n",
       "      <td>[6, 3, 6, 6]</td>\n",
       "      <td>[[ciao], [come], [va], [ciao]]</td>\n",
       "    </tr>\n",
       "  </tbody>\n",
       "</table>\n",
       "</div>"
      ],
      "text/plain": [
       "  name_ranges cell_references   cell_shapes                     cell_values\n",
       "0      number            $D$3        [4, 3]                            [56]\n",
       "1     stringa       $F$3:$F$6  [6, 3, 6, 6]  [[ciao], [come], [va], [ciao]]"
      ]
     },
     "execution_count": 107,
     "metadata": {},
     "output_type": "execute_result"
    }
   ],
   "source": [
    "# Extracting cell values from old workbook based on cell references and shapes\n",
    "\n",
    "sheet_old = with_data[\"Sheet1\"]\n",
    "\n",
    "cell_values = []\n",
    "\n",
    "for i in range(len(df_old)):\n",
    "    if len(df_old[\"cell_shapes\"][i]) == 2:\n",
    "        cell_values.append([sheet_old[df_old[\"cell_references\"][i]].value])\n",
    "    else:\n",
    "        cell_values_temp = []\n",
    "        for row in sheet_old.iter_rows( min_row=df_old[\"cell_shapes\"][i][1],\n",
    "                                        max_row=df_old[\"cell_shapes\"][i][3],\n",
    "                                        min_col=df_old[\"cell_shapes\"][i][0],\n",
    "                                        max_col=df_old[\"cell_shapes\"][i][2] ):\n",
    "            cell_values_temp.append([])\n",
    "            for cell in row:\n",
    "                cell_values_temp[-1].append(cell.value)\n",
    "        cell_values.append(cell_values_temp)\n",
    "\n",
    "df_old[\"cell_values\"] = cell_values\n",
    "df_old\n"
   ]
  },
  {
   "cell_type": "code",
   "execution_count": 108,
   "id": "25b9eb64",
   "metadata": {},
   "outputs": [
    {
     "data": {
      "text/html": [
       "<div>\n",
       "<style scoped>\n",
       "    .dataframe tbody tr th:only-of-type {\n",
       "        vertical-align: middle;\n",
       "    }\n",
       "\n",
       "    .dataframe tbody tr th {\n",
       "        vertical-align: top;\n",
       "    }\n",
       "\n",
       "    .dataframe thead th {\n",
       "        text-align: right;\n",
       "    }\n",
       "</style>\n",
       "<table border=\"1\" class=\"dataframe\">\n",
       "  <thead>\n",
       "    <tr style=\"text-align: right;\">\n",
       "      <th></th>\n",
       "      <th>name_ranges</th>\n",
       "      <th>cell_references</th>\n",
       "      <th>cell_shapes</th>\n",
       "    </tr>\n",
       "  </thead>\n",
       "  <tbody>\n",
       "    <tr>\n",
       "      <th>0</th>\n",
       "      <td>number</td>\n",
       "      <td>$C$7</td>\n",
       "      <td>[3, 7]</td>\n",
       "    </tr>\n",
       "    <tr>\n",
       "      <th>1</th>\n",
       "      <td>stringa</td>\n",
       "      <td>$H$8:$H$11</td>\n",
       "      <td>[8, 8, 8, 11]</td>\n",
       "    </tr>\n",
       "  </tbody>\n",
       "</table>\n",
       "</div>"
      ],
      "text/plain": [
       "  name_ranges cell_references    cell_shapes\n",
       "0      number            $C$7         [3, 7]\n",
       "1     stringa      $H$8:$H$11  [8, 8, 8, 11]"
      ]
     },
     "execution_count": 108,
     "metadata": {},
     "output_type": "execute_result"
    }
   ],
   "source": [
    "references_new = []\n",
    "for NR in NR_new:\n",
    "    references_new.append(NR_new[NR].attr_text.split(\"!\")[1])\n",
    "\n",
    "shapes_new = []\n",
    "for i in range(len(list_NR_new)):\n",
    "    a = references_new[i].split(\"$\")[1:]\n",
    "    for j in range(len(a)):\n",
    "        if j % 2 != 1:\n",
    "            a[j] = letter_to_number(a[j])\n",
    "    if( len(a) == 4 ):\n",
    "        a[1] = a[1][:-1]\n",
    "    a = [int(ciao) for ciao in a]\n",
    "    shapes_new.append(a)\n",
    "\n",
    "df_new = pd.DataFrame({\n",
    "    \"name_ranges\": list_NR_new,\n",
    "    \"cell_references\": references_new,\n",
    "    \"cell_shapes\": shapes_new,\n",
    "})\n",
    "df_new"
   ]
  },
  {
   "cell_type": "code",
   "execution_count": 109,
   "id": "692863bb",
   "metadata": {},
   "outputs": [
    {
     "data": {
      "text/html": [
       "<div>\n",
       "<style scoped>\n",
       "    .dataframe tbody tr th:only-of-type {\n",
       "        vertical-align: middle;\n",
       "    }\n",
       "\n",
       "    .dataframe tbody tr th {\n",
       "        vertical-align: top;\n",
       "    }\n",
       "\n",
       "    .dataframe thead th {\n",
       "        text-align: right;\n",
       "    }\n",
       "</style>\n",
       "<table border=\"1\" class=\"dataframe\">\n",
       "  <thead>\n",
       "    <tr style=\"text-align: right;\">\n",
       "      <th></th>\n",
       "      <th>name_ranges</th>\n",
       "      <th>cell_references</th>\n",
       "      <th>cell_shapes</th>\n",
       "      <th>cell_values</th>\n",
       "    </tr>\n",
       "  </thead>\n",
       "  <tbody>\n",
       "    <tr>\n",
       "      <th>0</th>\n",
       "      <td>number</td>\n",
       "      <td>$C$7</td>\n",
       "      <td>[3, 7]</td>\n",
       "      <td>[56]</td>\n",
       "    </tr>\n",
       "    <tr>\n",
       "      <th>1</th>\n",
       "      <td>stringa</td>\n",
       "      <td>$H$8:$H$11</td>\n",
       "      <td>[8, 8, 8, 11]</td>\n",
       "      <td>[[ciao], [come], [va], [ciao]]</td>\n",
       "    </tr>\n",
       "  </tbody>\n",
       "</table>\n",
       "</div>"
      ],
      "text/plain": [
       "  name_ranges cell_references    cell_shapes                     cell_values\n",
       "0      number            $C$7         [3, 7]                            [56]\n",
       "1     stringa      $H$8:$H$11  [8, 8, 8, 11]  [[ciao], [come], [va], [ciao]]"
      ]
     },
     "execution_count": 109,
     "metadata": {},
     "output_type": "execute_result"
    }
   ],
   "source": [
    "# merging values from old to new (within dataframes)\n",
    "\n",
    "df_old_tomerge = df_old.iloc[:,[0,3]]\n",
    "df_new_withvalues = pd.merge(df_new, df_old_tomerge)\n",
    "df_new_withvalues\n"
   ]
  },
  {
   "cell_type": "code",
   "execution_count": 113,
   "id": "b135a8b7",
   "metadata": {},
   "outputs": [],
   "source": [
    "# paste values into new workbook\n",
    "\n",
    "sheet_new = empty[\"Sheet1\"]\n",
    "\n",
    "for i in range(len(df_new_withvalues)):\n",
    "    if len(df_new_withvalues[\"cell_shapes\"][i]) == 2:\n",
    "        sheet_new[df_new_withvalues[\"cell_references\"][i]].value = df_new_withvalues[\"cell_values\"][i][0]\n",
    "    else:\n",
    "        for row in range( df_new_withvalues[\"cell_shapes\"][i][1],\n",
    "                                df_new_withvalues[\"cell_shapes\"][i][3] + 1 ):\n",
    "            for col in range( df_new_withvalues[\"cell_shapes\"][i][0],\n",
    "                              df_new_withvalues[\"cell_shapes\"][i][2] + 1 ):\n",
    "                sheet_new.cell(row=row, column=col).value = df_new_withvalues[\"cell_values\"][i][row - df_new_withvalues[\"cell_shapes\"][i][1]][col - df_new_withvalues[\"cell_shapes\"][i][0]]\n",
    "\n",
    "empty.save(\"new_with_data.xlsx\")"
   ]
  }
 ],
 "metadata": {
  "kernelspec": {
   "display_name": ".venv",
   "language": "python",
   "name": "python3"
  },
  "language_info": {
   "codemirror_mode": {
    "name": "ipython",
    "version": 3
   },
   "file_extension": ".py",
   "mimetype": "text/x-python",
   "name": "python",
   "nbconvert_exporter": "python",
   "pygments_lexer": "ipython3",
   "version": "3.11.9"
  }
 },
 "nbformat": 4,
 "nbformat_minor": 5
}
