{
 "cells": [
  {
   "cell_type": "code",
   "execution_count": 1,
   "id": "3ee6f8de",
   "metadata": {},
   "outputs": [],
   "source": [
    "# !pip install openpyxl\n",
    "from openpyxl import load_workbook\n",
    "from openpyxl.utils.cell import range_boundaries"
   ]
  },
  {
   "cell_type": "code",
   "execution_count": 8,
   "id": "404528af",
   "metadata": {},
   "outputs": [],
   "source": [
    "# pip install numpy\n",
    "# pip install pandas\n",
    "import numpy as np\n",
    "import pandas as pd"
   ]
  },
  {
   "cell_type": "code",
   "execution_count": 143,
   "id": "15901d50",
   "metadata": {},
   "outputs": [
    {
     "name": "stderr",
     "output_type": "stream",
     "text": [
      "c:\\Users\\Andrea.Baschiera\\OneDrive - EFRAG\\Desktop\\Data Migration Tool\\.venv\\Lib\\site-packages\\openpyxl\\worksheet\\_reader.py:329: UserWarning: Data Validation extension is not supported and will be removed\n",
      "  warn(msg)\n",
      "c:\\Users\\Andrea.Baschiera\\OneDrive - EFRAG\\Desktop\\Data Migration Tool\\.venv\\Lib\\site-packages\\openpyxl\\worksheet\\_reader.py:329: UserWarning: Conditional Formatting extension is not supported and will be removed\n",
      "  warn(msg)\n"
     ]
    }
   ],
   "source": [
    "# loading workbook and accessing NRs as lists\n",
    "a = load_workbook(\"Template/template 1.0.0.xlsx\")"
   ]
  },
  {
   "cell_type": "code",
   "execution_count": null,
   "id": "0acfc504",
   "metadata": {},
   "outputs": [],
   "source": [
    "list_names = a.defined_names.keys()\n",
    "pyxl_NR = a.defined_names\n",
    "\n",
    "res = []\n",
    "for NR in list_names:\n",
    "    res.append(pyxl_NR[NR].attr_text.split(\"!\")[0].replace(\"'\", \"\"))\n",
    "\n",
    "res"
   ]
  },
  {
   "cell_type": "code",
   "execution_count": 100,
   "id": "9be51772",
   "metadata": {},
   "outputs": [
    {
     "data": {
      "text/plain": [
       "['Alachlor']"
      ]
     },
     "execution_count": 100,
     "metadata": {},
     "output_type": "execute_result"
    }
   ],
   "source": [
    "[df1_filtered[\"cell_values\"][0][0]]"
   ]
  },
  {
   "cell_type": "code",
   "execution_count": 133,
   "id": "631e053d",
   "metadata": {},
   "outputs": [],
   "source": [
    "df1_filtered = df1[df1[\"name_ranges\"] == \"TypeOfPollutantAxis\"].iloc[0]\n",
    "for i in range(len(df1_filtered[\"cell_values\"])):\n",
    "    df1_filtered[\"cell_values\"][i] = [df1_filtered[\"cell_values\"][i][0]] # taking only first subelement from each sublist\n"
   ]
  },
  {
   "cell_type": "code",
   "execution_count": 134,
   "id": "2750933b",
   "metadata": {},
   "outputs": [],
   "source": [
    "for j in range(df1_filtered[\"cell_shapes\"][3]+1 - df1_filtered[\"cell_shapes\"][1] - len(df1_filtered[\"cell_values\"])):\n",
    "    df1_filtered[\"cell_values\"].append([None])"
   ]
  },
  {
   "cell_type": "code",
   "execution_count": null,
   "id": "80e0849a",
   "metadata": {},
   "outputs": [],
   "source": [
    "df1_filtered[\"cell_values\"]"
   ]
  },
  {
   "cell_type": "code",
   "execution_count": 184,
   "id": "bc6db345",
   "metadata": {},
   "outputs": [
    {
     "data": {
      "text/plain": [
       "'BreakdownOfAnnualMassFlowOfRelevantMaterialsUsedByTheUndertakingHypercube'"
      ]
     },
     "execution_count": 184,
     "metadata": {},
     "output_type": "execute_result"
    }
   ],
   "source": [
    "filtered = df1[df1['name_ranges'].str.contains('hypercube', case=False, na=False)]\n",
    "\n",
    "filtered[\"name_ranges\"].values[0]"
   ]
  },
  {
   "cell_type": "code",
   "execution_count": 175,
   "id": "a77af5d1",
   "metadata": {},
   "outputs": [],
   "source": [
    "env = a[\"Environmental Disclosures\"]\n",
    "\n",
    "for row in range(df1_filtered[\"cell_shapes\"][1], 82):\n",
    "    env.cell(row=row, column=df1_filtered[\"cell_shapes\"][0]).value = \"ciao come\" #df1_filtered[\"cell_values\"][row - df1_filtered[\"cell_shapes\"][1]][0]\n",
    "\n",
    "a.save(\"Template/debug1.xlsx\")"
   ]
  },
  {
   "cell_type": "code",
   "execution_count": 23,
   "id": "6a8e0141",
   "metadata": {},
   "outputs": [],
   "source": [
    "# accessing NRs as lists\n",
    "all_NRs = a.defined_names\n",
    "list_NRs = list(a.defined_names.keys())"
   ]
  },
  {
   "cell_type": "code",
   "execution_count": 172,
   "id": "c8aa99c0",
   "metadata": {},
   "outputs": [
    {
     "data": {
      "text/plain": [
       "True"
      ]
     },
     "execution_count": 172,
     "metadata": {},
     "output_type": "execute_result"
    }
   ],
   "source": [
    "(4,219) in merged_loc[\"Environmental Disclosures\"].values.tolist()"
   ]
  },
  {
   "cell_type": "code",
   "execution_count": 165,
   "id": "a03d1661",
   "metadata": {},
   "outputs": [],
   "source": [
    "sheet_names = a.sheetnames\n",
    "merged_loc = pd.DataFrame()\n",
    "\n",
    "for sheet in sheet_names:\n",
    "    merged = list(a[sheet].merged_cells.ranges)\n",
    "    merged_list = []\n",
    "    for i in range(len(merged)):\n",
    "        str(merged[i])\n",
    "        merged_list.append(range_boundaries(str(merged[i]))[:2])\n",
    "    merged_loc = pd.concat([merged_loc, pd.DataFrame({sheet: merged_list})], axis=1)"
   ]
  },
  {
   "cell_type": "code",
   "execution_count": null,
   "id": "cdf6af06",
   "metadata": {},
   "outputs": [],
   "source": [
    "merged = list(a[\"Environmental Disclosures\"].merged_cells.ranges)\n",
    "merged\n",
    "# for i in range(len(merged)):\n",
    "#     print(str(merged[i]))"
   ]
  },
  {
   "cell_type": "code",
   "execution_count": 9,
   "id": "fcf1e8bd",
   "metadata": {},
   "outputs": [],
   "source": [
    "# Iterating over NRs and accessing their attributes, storing in dict\n",
    "dict_of_cell_references = {}\n",
    "for NR in list_NRs:\n",
    "    dict_of_cell_references[NR] = all_NRs[NR].attr_text.split(\"!\")[1]"
   ]
  },
  {
   "cell_type": "code",
   "execution_count": 7,
   "id": "0f91a173",
   "metadata": {},
   "outputs": [
    {
     "data": {
      "text/plain": [
       "1"
      ]
     },
     "execution_count": 7,
     "metadata": {},
     "output_type": "execute_result"
    }
   ],
   "source": [
    "def letter_to_number(col):\n",
    "    col = col.upper()\n",
    "    n = 0\n",
    "    for c in col:\n",
    "        if not (\"A\" <= c <= \"Z\"):\n",
    "            raise ValueError(f\"Invalid column letter: {col}\")\n",
    "        n = n * 26 + (ord(c) - ord(\"A\") + 1)\n",
    "    return n\n",
    "\n",
    "# examples\n",
    "letter_to_number(\"A\")   # 1"
   ]
  },
  {
   "cell_type": "code",
   "execution_count": null,
   "id": "e3a1dcfd",
   "metadata": {},
   "outputs": [],
   "source": [
    "# Creating shapes of the cell references from ranges\n",
    "dict_of_cell_shapes = {}\n",
    "for i in dict_of_cell_references.keys():\n",
    "    a = dict_of_cell_references[i].split(\"$\")[1:]\n",
    "    for j in range(len(a)):\n",
    "        if j % 2 != 1:\n",
    "            a[j] = letter_to_number(a[j])\n",
    "    if( len(a) == 4 ):\n",
    "        a[1] = a[1][:-1]\n",
    "    dict_of_cell_shapes[i] = a\n",
    "\n",
    "dict_of_cell_shapes"
   ]
  },
  {
   "cell_type": "code",
   "execution_count": null,
   "id": "ebf721dc",
   "metadata": {},
   "outputs": [],
   "source": [
    "df = pd.DataFrame({\n",
    "    \"name_ranges\": list_NRs,\n",
    "    \"cell_references\": list(dict_of_cell_references.values()),\n",
    "    \"cell_shapes\": list(dict_of_cell_shapes.values()),\n",
    "})\n",
    "df"
   ]
  },
  {
   "cell_type": "code",
   "execution_count": null,
   "id": "ac2ec65b",
   "metadata": {},
   "outputs": [],
   "source": [
    "# condition for seeing whether cell reference is a formula\n",
    "a[\"Social Disclosures\"].cell(row=46, column=4).data_type == \"f\"  # True"
   ]
  },
  {
   "cell_type": "code",
   "execution_count": 4,
   "id": "56f47bfa",
   "metadata": {},
   "outputs": [],
   "source": [
    "with_data = load_workbook(\"with_data.xlsx\")\n",
    "empty = load_workbook(\"empty.xlsx\")\n",
    "NR_old = with_data.defined_names\n",
    "list_NR_old = list(with_data.defined_names.keys())\n",
    "NR_new = empty.defined_names\n",
    "list_NR_new = list(empty.defined_names.keys())"
   ]
  },
  {
   "cell_type": "code",
   "execution_count": 8,
   "id": "a4535f1a",
   "metadata": {},
   "outputs": [
    {
     "data": {
      "text/html": [
       "<div>\n",
       "<style scoped>\n",
       "    .dataframe tbody tr th:only-of-type {\n",
       "        vertical-align: middle;\n",
       "    }\n",
       "\n",
       "    .dataframe tbody tr th {\n",
       "        vertical-align: top;\n",
       "    }\n",
       "\n",
       "    .dataframe thead th {\n",
       "        text-align: right;\n",
       "    }\n",
       "</style>\n",
       "<table border=\"1\" class=\"dataframe\">\n",
       "  <thead>\n",
       "    <tr style=\"text-align: right;\">\n",
       "      <th></th>\n",
       "      <th>name_ranges</th>\n",
       "      <th>cell_references</th>\n",
       "      <th>cell_shapes</th>\n",
       "    </tr>\n",
       "  </thead>\n",
       "  <tbody>\n",
       "    <tr>\n",
       "      <th>0</th>\n",
       "      <td>number</td>\n",
       "      <td>$D$3</td>\n",
       "      <td>[4, 3]</td>\n",
       "    </tr>\n",
       "    <tr>\n",
       "      <th>1</th>\n",
       "      <td>number2</td>\n",
       "      <td>$D$5</td>\n",
       "      <td>[4, 5]</td>\n",
       "    </tr>\n",
       "    <tr>\n",
       "      <th>2</th>\n",
       "      <td>stringa</td>\n",
       "      <td>$F$3:$F$6</td>\n",
       "      <td>[6, 3, 6, 6]</td>\n",
       "    </tr>\n",
       "  </tbody>\n",
       "</table>\n",
       "</div>"
      ],
      "text/plain": [
       "  name_ranges cell_references   cell_shapes\n",
       "0      number            $D$3        [4, 3]\n",
       "1     number2            $D$5        [4, 5]\n",
       "2     stringa       $F$3:$F$6  [6, 3, 6, 6]"
      ]
     },
     "execution_count": 8,
     "metadata": {},
     "output_type": "execute_result"
    }
   ],
   "source": [
    "references_old = []\n",
    "for NR in NR_old:\n",
    "    references_old.append(NR_old[NR].attr_text.split(\"!\")[1])\n",
    "\n",
    "shapes_old = []\n",
    "for i in range(len(list_NR_old)):\n",
    "    a = references_old[i].split(\"$\")[1:]\n",
    "    for j in range(len(a)):\n",
    "        if j % 2 != 1:\n",
    "            a[j] = letter_to_number(a[j])\n",
    "    if( len(a) == 4 ):\n",
    "        a[1] = a[1][:-1]\n",
    "    a = [int(ciao) for ciao in a]\n",
    "    shapes_old.append(a)\n",
    "\n",
    "df_old = pd.DataFrame({\n",
    "    \"name_ranges\": list_NR_old,\n",
    "    \"cell_references\": references_old,\n",
    "    \"cell_shapes\": shapes_old,\n",
    "})\n",
    "df_old"
   ]
  },
  {
   "cell_type": "code",
   "execution_count": 9,
   "id": "e966ce54",
   "metadata": {},
   "outputs": [
    {
     "data": {
      "text/html": [
       "<div>\n",
       "<style scoped>\n",
       "    .dataframe tbody tr th:only-of-type {\n",
       "        vertical-align: middle;\n",
       "    }\n",
       "\n",
       "    .dataframe tbody tr th {\n",
       "        vertical-align: top;\n",
       "    }\n",
       "\n",
       "    .dataframe thead th {\n",
       "        text-align: right;\n",
       "    }\n",
       "</style>\n",
       "<table border=\"1\" class=\"dataframe\">\n",
       "  <thead>\n",
       "    <tr style=\"text-align: right;\">\n",
       "      <th></th>\n",
       "      <th>name_ranges</th>\n",
       "      <th>cell_references</th>\n",
       "      <th>cell_shapes</th>\n",
       "      <th>cell_values</th>\n",
       "    </tr>\n",
       "  </thead>\n",
       "  <tbody>\n",
       "    <tr>\n",
       "      <th>0</th>\n",
       "      <td>number</td>\n",
       "      <td>$D$3</td>\n",
       "      <td>[4, 3]</td>\n",
       "      <td>[=45+54]</td>\n",
       "    </tr>\n",
       "    <tr>\n",
       "      <th>1</th>\n",
       "      <td>number2</td>\n",
       "      <td>$D$5</td>\n",
       "      <td>[4, 5]</td>\n",
       "      <td>[=number]</td>\n",
       "    </tr>\n",
       "    <tr>\n",
       "      <th>2</th>\n",
       "      <td>stringa</td>\n",
       "      <td>$F$3:$F$6</td>\n",
       "      <td>[6, 3, 6, 6]</td>\n",
       "      <td>[[ciao], [come], [va], [ciao]]</td>\n",
       "    </tr>\n",
       "  </tbody>\n",
       "</table>\n",
       "</div>"
      ],
      "text/plain": [
       "  name_ranges cell_references   cell_shapes                     cell_values\n",
       "0      number            $D$3        [4, 3]                        [=45+54]\n",
       "1     number2            $D$5        [4, 5]                       [=number]\n",
       "2     stringa       $F$3:$F$6  [6, 3, 6, 6]  [[ciao], [come], [va], [ciao]]"
      ]
     },
     "execution_count": 9,
     "metadata": {},
     "output_type": "execute_result"
    }
   ],
   "source": [
    "# Extracting cell values from old workbook based on cell references and shapes\n",
    "\n",
    "sheet_old = with_data[\"Sheet1\"]\n",
    "\n",
    "cell_values = []\n",
    "\n",
    "for i in range(len(df_old)):\n",
    "    if len(df_old[\"cell_shapes\"][i]) == 2:\n",
    "        cell_values.append([sheet_old[df_old[\"cell_references\"][i]].value])\n",
    "    else:\n",
    "        cell_values_temp = []\n",
    "        for row in sheet_old.iter_rows( min_row=df_old[\"cell_shapes\"][i][1],\n",
    "                                        max_row=df_old[\"cell_shapes\"][i][3],\n",
    "                                        min_col=df_old[\"cell_shapes\"][i][0],\n",
    "                                        max_col=df_old[\"cell_shapes\"][i][2] ):\n",
    "            cell_values_temp.append([])\n",
    "            for col in row:\n",
    "                cell_values_temp[-1].append(col.value)\n",
    "        cell_values.append(cell_values_temp)\n",
    "\n",
    "df_old[\"cell_values\"] = cell_values\n",
    "df_old\n"
   ]
  },
  {
   "cell_type": "code",
   "execution_count": 10,
   "id": "25b9eb64",
   "metadata": {},
   "outputs": [
    {
     "data": {
      "text/html": [
       "<div>\n",
       "<style scoped>\n",
       "    .dataframe tbody tr th:only-of-type {\n",
       "        vertical-align: middle;\n",
       "    }\n",
       "\n",
       "    .dataframe tbody tr th {\n",
       "        vertical-align: top;\n",
       "    }\n",
       "\n",
       "    .dataframe thead th {\n",
       "        text-align: right;\n",
       "    }\n",
       "</style>\n",
       "<table border=\"1\" class=\"dataframe\">\n",
       "  <thead>\n",
       "    <tr style=\"text-align: right;\">\n",
       "      <th></th>\n",
       "      <th>name_ranges</th>\n",
       "      <th>cell_references</th>\n",
       "      <th>cell_shapes</th>\n",
       "    </tr>\n",
       "  </thead>\n",
       "  <tbody>\n",
       "    <tr>\n",
       "      <th>0</th>\n",
       "      <td>number</td>\n",
       "      <td>$C$7</td>\n",
       "      <td>[3, 7]</td>\n",
       "    </tr>\n",
       "    <tr>\n",
       "      <th>1</th>\n",
       "      <td>number2</td>\n",
       "      <td>$O$7</td>\n",
       "      <td>[15, 7]</td>\n",
       "    </tr>\n",
       "    <tr>\n",
       "      <th>2</th>\n",
       "      <td>stringa</td>\n",
       "      <td>$H$8:$H$11</td>\n",
       "      <td>[8, 8, 8, 11]</td>\n",
       "    </tr>\n",
       "  </tbody>\n",
       "</table>\n",
       "</div>"
      ],
      "text/plain": [
       "  name_ranges cell_references    cell_shapes\n",
       "0      number            $C$7         [3, 7]\n",
       "1     number2            $O$7        [15, 7]\n",
       "2     stringa      $H$8:$H$11  [8, 8, 8, 11]"
      ]
     },
     "execution_count": 10,
     "metadata": {},
     "output_type": "execute_result"
    }
   ],
   "source": [
    "references_new = []\n",
    "for NR in NR_new:\n",
    "    references_new.append(NR_new[NR].attr_text.split(\"!\")[1])\n",
    "\n",
    "shapes_new = []\n",
    "for i in range(len(list_NR_new)):\n",
    "    a = references_new[i].split(\"$\")[1:]\n",
    "    for j in range(len(a)):\n",
    "        if j % 2 != 1:\n",
    "            a[j] = letter_to_number(a[j])\n",
    "    if( len(a) == 4 ):\n",
    "        a[1] = a[1][:-1]\n",
    "    a = [int(ciao) for ciao in a]\n",
    "    shapes_new.append(a)\n",
    "\n",
    "df_new = pd.DataFrame({\n",
    "    \"name_ranges\": list_NR_new,\n",
    "    \"cell_references\": references_new,\n",
    "    \"cell_shapes\": shapes_new,\n",
    "})\n",
    "df_new"
   ]
  },
  {
   "cell_type": "code",
   "execution_count": 11,
   "id": "692863bb",
   "metadata": {},
   "outputs": [
    {
     "data": {
      "text/html": [
       "<div>\n",
       "<style scoped>\n",
       "    .dataframe tbody tr th:only-of-type {\n",
       "        vertical-align: middle;\n",
       "    }\n",
       "\n",
       "    .dataframe tbody tr th {\n",
       "        vertical-align: top;\n",
       "    }\n",
       "\n",
       "    .dataframe thead th {\n",
       "        text-align: right;\n",
       "    }\n",
       "</style>\n",
       "<table border=\"1\" class=\"dataframe\">\n",
       "  <thead>\n",
       "    <tr style=\"text-align: right;\">\n",
       "      <th></th>\n",
       "      <th>name_ranges</th>\n",
       "      <th>cell_references</th>\n",
       "      <th>cell_shapes</th>\n",
       "      <th>cell_values</th>\n",
       "    </tr>\n",
       "  </thead>\n",
       "  <tbody>\n",
       "    <tr>\n",
       "      <th>0</th>\n",
       "      <td>number</td>\n",
       "      <td>$C$7</td>\n",
       "      <td>[3, 7]</td>\n",
       "      <td>[=45+54]</td>\n",
       "    </tr>\n",
       "    <tr>\n",
       "      <th>1</th>\n",
       "      <td>number2</td>\n",
       "      <td>$O$7</td>\n",
       "      <td>[15, 7]</td>\n",
       "      <td>[=number]</td>\n",
       "    </tr>\n",
       "    <tr>\n",
       "      <th>2</th>\n",
       "      <td>stringa</td>\n",
       "      <td>$H$8:$H$11</td>\n",
       "      <td>[8, 8, 8, 11]</td>\n",
       "      <td>[[ciao], [come], [va], [ciao]]</td>\n",
       "    </tr>\n",
       "  </tbody>\n",
       "</table>\n",
       "</div>"
      ],
      "text/plain": [
       "  name_ranges cell_references    cell_shapes                     cell_values\n",
       "0      number            $C$7         [3, 7]                        [=45+54]\n",
       "1     number2            $O$7        [15, 7]                       [=number]\n",
       "2     stringa      $H$8:$H$11  [8, 8, 8, 11]  [[ciao], [come], [va], [ciao]]"
      ]
     },
     "execution_count": 11,
     "metadata": {},
     "output_type": "execute_result"
    }
   ],
   "source": [
    "# merging values from old to new (within dataframes)\n",
    "\n",
    "df_old_tomerge = df_old.iloc[:,[0,3]]\n",
    "df_new_withvalues = pd.merge(df_new, df_old_tomerge)\n",
    "df_new_withvalues\n"
   ]
  },
  {
   "cell_type": "code",
   "execution_count": 12,
   "id": "b135a8b7",
   "metadata": {},
   "outputs": [],
   "source": [
    "# paste values into new workbook\n",
    "\n",
    "sheet_new = empty[\"Sheet1\"]\n",
    "\n",
    "for i in range(len(df_new_withvalues)):\n",
    "    if len(df_new_withvalues[\"cell_shapes\"][i]) == 2:\n",
    "        sheet_new[df_new_withvalues[\"cell_references\"][i]].value = df_new_withvalues[\"cell_values\"][i][0]\n",
    "    else:\n",
    "        for row in range( df_new_withvalues[\"cell_shapes\"][i][1],\n",
    "                                df_new_withvalues[\"cell_shapes\"][i][3] + 1 ):\n",
    "            for col in range( df_new_withvalues[\"cell_shapes\"][i][0],\n",
    "                              df_new_withvalues[\"cell_shapes\"][i][2] + 1 ):\n",
    "                sheet_new.cell(row=row, column=col).value = df_new_withvalues[\"cell_values\"][i][row - df_new_withvalues[\"cell_shapes\"][i][1]][col - df_new_withvalues[\"cell_shapes\"][i][0]]\n",
    "\n",
    "empty.save(\"new_with_data.xlsx\")"
   ]
  },
  {
   "cell_type": "code",
   "execution_count": null,
   "id": "1185b9bb",
   "metadata": {},
   "outputs": [],
   "source": [
    "# avoid shadowing built-in 'list' and use positional indexing to prevent KeyError from non-consecutive DataFrame index\n",
    "values_list = []\n",
    "for i in range(len(df)):\n",
    "    cell_val = df[\"cell_values\"].iloc[i]  # use iloc for positional access\n",
    "    if isinstance(cell_val, (list, tuple)):\n",
    "        values_list.append(cell_val[0] if len(cell_val) > 0 else None)\n",
    "    else:\n",
    "        values_list.append(cell_val)\n",
    "\n",
    "len(values_list)"
   ]
  },
  {
   "cell_type": "code",
   "execution_count": 35,
   "id": "389654ec",
   "metadata": {},
   "outputs": [
    {
     "name": "stdout",
     "output_type": "stream",
     "text": [
      "value accessed: ['Duomo Square'] and df value column: [['Duomo Square'], [None], [None], [None], [None], [None], [None], [None], [None], [None], [None], [None], [None], [None], [None], [None], [None], [None], [None], [None], [None], [None], [None], [None], [None]]\n",
      "value accessed: ['Alachlor', None, None, 567, None, None, None, None] and df value column: [['Alachlor', None, None, 567, None, None, None, None], ['Anthracene', None, None, None, None, None, None, 67], ['Carbon dioxide (CO2)', None, None, None, None, None, 567, None], [None, None, None, None, None, None, None, None], [None, None, None, None, None, None, None, None], [None, None, None, None, None, None, None, None], [None, None, None, None, None, None, None, None], [None, None, None, None, None, None, None, None], [None, None, None, None, None, None, None, None], [None, None, None, None, None, None, None, None], [None, None, None, None, None, None, None, None], [None, None, None, None, None, None, None, None], [None, None, None, None, None, None, None, None], [None, None, None, None, None, None, None, None], [None, None, None, None, None, None, None, None], [None, None, None, None, None, None, None, None], [None, None, None, None, None, None, None, None], [None, None, None, None, None, None, None, None], [None, None, None, None, None, None, None, None], [None, None, None, None, None, None, None, None], [None, None, None, None, None, None, None, None], [None, None, None, None, None, None, None, None], [None, None, None, None, None, None, None, None], [None, None, None, None, None, None, None, None], [None, None, None, None, None, None, None, None], [None, None, None, None, None, None, None, None], [None, None, None, None, None, None, None, None], [None, None, None, None, None, None, None, None], [None, None, None, None, None, None, None, None], [None, None, None, None, None, None, None, None], [None, None, None, None, None, None, None, None], [None, None, None, None, None, None, None, None], [None, None, None, None, None, None, None, None], [None, None, None, None, None, None, None, None], [None, None, None, None, None, None, None, None], [None, None, None, None, None, None, None, None], [None, None, None, None, None, None, None, None], [None, None, None, None, None, None, None, None], [None, None, None, None, None, None, None, None], [None, None, None, None, None, None, None, None]]\n",
      "value accessed: [567, None, None] and df value column: [[567, None, None], [None, None, None], [None, None, None], [None, None, None], [None, None, None], [None, None, None], [None, None, None], [None, None, None], [None, None, None], [None, None, None], [None, None, None], [None, None, None], [None, None, None], [None, None, None], [None, None, None], [None, None, None], [None, None, None], [None, None, None], [None, None, None], [None, None, None], [None, None, None], [None, None, None], [None, None, None], [None, None, None], [None, None, None], [None, None, None], [None, None, None], [None, None, None], [None, None, None], [None, None, None], [None, None, None], [None, None, None], [None, None, None], [None, None, None], [None, None, None], [None, None, None], [None, None, None], [None, None, None], [None, None, None], [None, None, None]]\n",
      "value accessed: ['metric tonnes (t)'] and df value column: [['metric tonnes (t)']]\n",
      "value accessed: [None] and df value column: [[None], [67], [None], [None], [None], [None], [None], [None], [None], [None], [None], [None], [None], [None], [None], [None], [None], [None], [None], [None], [None], [None], [None], [None], [None], [None], [None], [None], [None], [None], [None], [None], [None], [None], [None], [None], [None], [None], [None], [None]]\n",
      "value accessed: ['metric tonnes (t)'] and df value column: [['metric tonnes (t)']]\n",
      "value accessed: [None] and df value column: [[None], [None], [567], [None], [None], [None], [None], [None], [None], [None], [None], [None], [None], [None], [None], [None], [None], [None], [None], [None], [None], [None], [None], [None], [None], [None], [None], [None], [None], [None], [None], [None], [None], [None], [None], [None], [None], [None], [None], [None]]\n",
      "value accessed: ['metric tonnes (t)'] and df value column: [['metric tonnes (t)']]\n",
      "value accessed: [150] and df value column: [[150]]\n",
      "value accessed: [1200, None, None] and df value column: [[1200, None, None], [None, None, None], [None, None, None], [None, None, None], [None, None, None], [None, None, None], [None, None, None], [None, None, None], [None, None, None], [None, None, None], [None, None, None], [None, None, None], [None, None, None], [None, None, None], [None, None, None], [None, None, None], [None, None, None], [None, None, None], [None, None, None], [None, None, None], [None, None, None], [None, None, None], [None, None, None], [None, None, None], [None, None, None], [None, None, None]]\n",
      "value accessed: ['squared meters (m2)'] and df value column: [['squared meters (m2)']]\n",
      "value accessed: [600000] and df value column: [[600000]]\n",
      "value accessed: [150] and df value column: [[150]]\n",
      "value accessed: [100] and df value column: [[100]]\n",
      "value accessed: [120] and df value column: [[120]]\n",
      "value accessed: [140] and df value column: [[140]]\n",
      "value accessed: [2020] and df value column: [[2020]]\n",
      "value accessed: ['Option B (Basic Module and Comprehensive Module)'] and df value column: [['Option B (Basic Module and Comprehensive Module)']]\n",
      "value accessed: ['Sustainability report prepared on a consolidated basis'] and df value column: [['Sustainability report prepared on a consolidated basis']]\n",
      "value accessed: [1, 'Packaging, boxes for produce/meat', None, None, 1500, None, None] and df value column: [[1, 'Packaging, boxes for produce/meat', None, None, 1500, None, None], [2, 'Wrapping, trays, containers', None, None, 800, None, None], [3, None, None, None, None, None, None], [4, None, None, None, None, None, None], [5, None, None, None, None, None, None], [6, None, None, None, None, None, None], [7, None, None, None, None, None, None], [8, None, None, None, None, None, None], [9, None, None, None, None, None, None], [10, None, None, None, None, None, None], [11, None, None, None, None, None, None], [12, None, None, None, None, None, None], [13, None, None, None, None, None, None], [14, None, None, None, None, None, None], [15, None, None, None, None, None, None]]\n",
      "value accessed: ['Electricity (as reflected in utility billings)', None, None, None] and df value column: [['Electricity (as reflected in utility billings)', None, None, None], ['Self-generated electricity ', None, None, None], ['Fuels (see Fuel Converter on Fuels worksheet)', None, None, None]]\n",
      "value accessed: [10, None, None, 100, 'emptyTA'] and df value column: [[10, None, None, 100, 'emptyTA'], [23, None, None, 20, 'emptyTA'], ['emptyTA', None, None, 'emptyTA', 'emptyTA']]\n",
      "value accessed: ['Milan'] and df value column: [['Milan'], [None], [None], [None], [None], [None], [None], [None], [None], [None], [None], [None], [None], [None], [None], [None], [None], [None], [None], [None], [None], [None], [None], [None], [None]]\n",
      "value accessed: ['Italy', None] and df value column: [['Italy', None], ['Belgium', None], ['Albania', None], [None, None], [None, None], [None, None], [None, None], [None, None], [None, None], [None, None]]\n",
      "value accessed: ['Italy'] and df value column: [['Italy']]\n",
      "value accessed: ['Italy'] and df value column: [['Italy'], [None], [None], [None], [None], [None], [None], [None], [None], [None], [None], [None], [None], [None], [None], [None], [None], [None], [None], [None], [None], [None], [None], [None], [None]]\n"
     ]
    },
    {
     "ename": "TypeError",
     "evalue": "'NoneType' object is not subscriptable",
     "output_type": "error",
     "traceback": [
      "\u001b[31m---------------------------------------------------------------------------\u001b[39m",
      "\u001b[31mTypeError\u001b[39m                                 Traceback (most recent call last)",
      "\u001b[36mCell\u001b[39m\u001b[36m \u001b[39m\u001b[32mIn[35]\u001b[39m\u001b[32m, line 2\u001b[39m\n\u001b[32m      1\u001b[39m \u001b[38;5;28;01mfor\u001b[39;00m i \u001b[38;5;129;01min\u001b[39;00m \u001b[38;5;28mrange\u001b[39m(\u001b[38;5;28mlen\u001b[39m(df)):\n\u001b[32m----> \u001b[39m\u001b[32m2\u001b[39m     \u001b[38;5;28mprint\u001b[39m(\u001b[33mf\u001b[39m\u001b[33m\"\u001b[39m\u001b[33mvalue accessed: \u001b[39m\u001b[38;5;132;01m{\u001b[39;00m\u001b[43mdf\u001b[49m\u001b[43m[\u001b[49m\u001b[33;43m'\u001b[39;49m\u001b[33;43mcell_values\u001b[39;49m\u001b[33;43m'\u001b[39;49m\u001b[43m]\u001b[49m\u001b[43m.\u001b[49m\u001b[43miloc\u001b[49m\u001b[43m[\u001b[49m\u001b[43mi\u001b[49m\u001b[43m]\u001b[49m\u001b[43m[\u001b[49m\u001b[32;43m0\u001b[39;49m\u001b[43m]\u001b[49m\u001b[38;5;132;01m}\u001b[39;00m\u001b[33m and df value column: \u001b[39m\u001b[38;5;132;01m{\u001b[39;00mdf[\u001b[33m'\u001b[39m\u001b[33mcell_values\u001b[39m\u001b[33m'\u001b[39m].iloc[i]\u001b[38;5;132;01m}\u001b[39;00m\u001b[33m\"\u001b[39m)\n",
      "\u001b[31mTypeError\u001b[39m: 'NoneType' object is not subscriptable"
     ]
    }
   ],
   "source": [
    "for i in range(len(df)):\n",
    "    print(f\"value accessed: {df['cell_values'].iloc[i][0]} and df value column: {df['cell_values'].iloc[i]}\")"
   ]
  },
  {
   "cell_type": "code",
   "execution_count": 53,
   "id": "da709699",
   "metadata": {},
   "outputs": [
    {
     "data": {
      "text/plain": [
       "np.float64(nan)"
      ]
     },
     "execution_count": 53,
     "metadata": {},
     "output_type": "execute_result"
    }
   ],
   "source": [
    "ciao = pd.DataFrame({\n",
    "    \"a\": [1,2,3,4,5,6],\n",
    "    \"b\": [7,8,9,None,11,12]\n",
    "})\n",
    "ciao.iloc[3][\"b\"]"
   ]
  },
  {
   "cell_type": "code",
   "execution_count": 29,
   "id": "403a5f53",
   "metadata": {},
   "outputs": [
    {
     "data": {
      "text/plain": [
       "(1, 2, 8, 5)"
      ]
     },
     "execution_count": 29,
     "metadata": {},
     "output_type": "execute_result"
    }
   ],
   "source": [
    "from openpyxl.utils.cell import range_boundaries\n",
    "\n",
    "range_string = \"A2:H5\"\n",
    "\n",
    "# Get the boundaries\n",
    "range_boundaries(range_string)"
   ]
  },
  {
   "cell_type": "code",
   "execution_count": 45,
   "id": "4fc627fe",
   "metadata": {},
   "outputs": [
    {
     "data": {
      "text/plain": [
       "173    [[Alachlor, None, None], [Anthracene, None, No...\n",
       "Name: cell_values, dtype: object"
      ]
     },
     "execution_count": 45,
     "metadata": {},
     "output_type": "execute_result"
    }
   ],
   "source": [
    "df1[df1[\"name_ranges\"] == \"TypeOfPollutantAxis\"][\"cell_values\"]"
   ]
  },
  {
   "cell_type": "code",
   "execution_count": 125,
   "id": "cc3ff26d",
   "metadata": {},
   "outputs": [
    {
     "data": {
      "text/html": [
       "<div>\n",
       "<style scoped>\n",
       "    .dataframe tbody tr th:only-of-type {\n",
       "        vertical-align: middle;\n",
       "    }\n",
       "\n",
       "    .dataframe tbody tr th {\n",
       "        vertical-align: top;\n",
       "    }\n",
       "\n",
       "    .dataframe thead th {\n",
       "        text-align: right;\n",
       "    }\n",
       "</style>\n",
       "<table border=\"1\" class=\"dataframe\">\n",
       "  <thead>\n",
       "    <tr style=\"text-align: right;\">\n",
       "      <th></th>\n",
       "      <th>name_ranges</th>\n",
       "      <th>sheets</th>\n",
       "      <th>cell_ranges</th>\n",
       "      <th>cell_shapes</th>\n",
       "      <th>cell_values</th>\n",
       "    </tr>\n",
       "  </thead>\n",
       "  <tbody>\n",
       "    <tr>\n",
       "      <th>0</th>\n",
       "      <td>AddressOfSite</td>\n",
       "      <td>General Information</td>\n",
       "      <td>$D$450:$D$549</td>\n",
       "      <td>[4, 450, 4, 549]</td>\n",
       "      <td>[[Duomo Square], [None], [None], [None], [None...</td>\n",
       "    </tr>\n",
       "    <tr>\n",
       "      <th>1</th>\n",
       "      <td>AmountOfEmissionToAir</td>\n",
       "      <td>Environmental Disclosures</td>\n",
       "      <td>$G$80:$I$179</td>\n",
       "      <td>[7, 80, 9, 179]</td>\n",
       "      <td>[[567, None, None], [None, None, None], [None,...</td>\n",
       "    </tr>\n",
       "    <tr>\n",
       "      <th>2</th>\n",
       "      <td>AmountOfEmissionToAir_unit</td>\n",
       "      <td>Environmental Disclosures</td>\n",
       "      <td>$C$78</td>\n",
       "      <td>[3, 78]</td>\n",
       "      <td>[[metric tonnes (t)]]</td>\n",
       "    </tr>\n",
       "    <tr>\n",
       "      <th>3</th>\n",
       "      <td>AmountOfEmissionToSoil</td>\n",
       "      <td>Environmental Disclosures</td>\n",
       "      <td>$K$80:$K$179</td>\n",
       "      <td>[11, 80, 11, 179]</td>\n",
       "      <td>[[None], [67], [None], [None], [None], [None],...</td>\n",
       "    </tr>\n",
       "    <tr>\n",
       "      <th>4</th>\n",
       "      <td>AmountOfEmissionToSoil_unit</td>\n",
       "      <td>Environmental Disclosures</td>\n",
       "      <td>$C$78</td>\n",
       "      <td>[3, 78]</td>\n",
       "      <td>[[metric tonnes (t)]]</td>\n",
       "    </tr>\n",
       "    <tr>\n",
       "      <th>...</th>\n",
       "      <td>...</td>\n",
       "      <td>...</td>\n",
       "      <td>...</td>\n",
       "      <td>...</td>\n",
       "      <td>...</td>\n",
       "    </tr>\n",
       "    <tr>\n",
       "      <th>192</th>\n",
       "      <td>WasteDivertedToRecycleOrReuseVolume</td>\n",
       "      <td>Environmental Disclosures</td>\n",
       "      <td>$J$323:$J$422</td>\n",
       "      <td>[10, 323, 10, 422]</td>\n",
       "      <td>[[1200], [800], [500], [300], [100], [4000], [...</td>\n",
       "    </tr>\n",
       "    <tr>\n",
       "      <th>193</th>\n",
       "      <td>WasteDivertedToRecycleOrReuseVolume_unit</td>\n",
       "      <td>Environmental Disclosures</td>\n",
       "      <td>$G$323:$I$422</td>\n",
       "      <td>[7, 323, 9, 422]</td>\n",
       "      <td>[[metric tonnes (t), None, None], [kilograms (...</td>\n",
       "    </tr>\n",
       "    <tr>\n",
       "      <th>194</th>\n",
       "      <td>WaterDischargeFromUndertakingProductionProcesses</td>\n",
       "      <td>Environmental Disclosures</td>\n",
       "      <td>$D$310</td>\n",
       "      <td>[4, 310]</td>\n",
       "      <td>[[100]]</td>\n",
       "    </tr>\n",
       "    <tr>\n",
       "      <th>195</th>\n",
       "      <td>WeightOfMaterialUsed</td>\n",
       "      <td>Environmental Disclosures</td>\n",
       "      <td>$G$435:$I$534</td>\n",
       "      <td>[7, 435, 9, 534]</td>\n",
       "      <td>[[1500, None, None], [800, None, None], [None,...</td>\n",
       "    </tr>\n",
       "    <tr>\n",
       "      <th>196</th>\n",
       "      <td>WeightOfMaterialUsed_unit</td>\n",
       "      <td>Environmental Disclosures</td>\n",
       "      <td>$J$435:$J$534</td>\n",
       "      <td>[10, 435, 10, 534]</td>\n",
       "      <td>[[kilograms (kg)], [cubic meters (m3)], [None]...</td>\n",
       "    </tr>\n",
       "  </tbody>\n",
       "</table>\n",
       "<p>197 rows × 5 columns</p>\n",
       "</div>"
      ],
      "text/plain": [
       "                                          name_ranges  \\\n",
       "0                                       AddressOfSite   \n",
       "1                               AmountOfEmissionToAir   \n",
       "2                          AmountOfEmissionToAir_unit   \n",
       "3                              AmountOfEmissionToSoil   \n",
       "4                         AmountOfEmissionToSoil_unit   \n",
       "..                                                ...   \n",
       "192               WasteDivertedToRecycleOrReuseVolume   \n",
       "193          WasteDivertedToRecycleOrReuseVolume_unit   \n",
       "194  WaterDischargeFromUndertakingProductionProcesses   \n",
       "195                              WeightOfMaterialUsed   \n",
       "196                         WeightOfMaterialUsed_unit   \n",
       "\n",
       "                        sheets    cell_ranges         cell_shapes  \\\n",
       "0          General Information  $D$450:$D$549    [4, 450, 4, 549]   \n",
       "1    Environmental Disclosures   $G$80:$I$179     [7, 80, 9, 179]   \n",
       "2    Environmental Disclosures          $C$78             [3, 78]   \n",
       "3    Environmental Disclosures   $K$80:$K$179   [11, 80, 11, 179]   \n",
       "4    Environmental Disclosures          $C$78             [3, 78]   \n",
       "..                         ...            ...                 ...   \n",
       "192  Environmental Disclosures  $J$323:$J$422  [10, 323, 10, 422]   \n",
       "193  Environmental Disclosures  $G$323:$I$422    [7, 323, 9, 422]   \n",
       "194  Environmental Disclosures         $D$310            [4, 310]   \n",
       "195  Environmental Disclosures  $G$435:$I$534    [7, 435, 9, 534]   \n",
       "196  Environmental Disclosures  $J$435:$J$534  [10, 435, 10, 534]   \n",
       "\n",
       "                                           cell_values  \n",
       "0    [[Duomo Square], [None], [None], [None], [None...  \n",
       "1    [[567, None, None], [None, None, None], [None,...  \n",
       "2                                [[metric tonnes (t)]]  \n",
       "3    [[None], [67], [None], [None], [None], [None],...  \n",
       "4                                [[metric tonnes (t)]]  \n",
       "..                                                 ...  \n",
       "192  [[1200], [800], [500], [300], [100], [4000], [...  \n",
       "193  [[metric tonnes (t), None, None], [kilograms (...  \n",
       "194                                            [[100]]  \n",
       "195  [[1500, None, None], [800, None, None], [None,...  \n",
       "196  [[kilograms (kg)], [cubic meters (m3)], [None]...  \n",
       "\n",
       "[197 rows x 5 columns]"
      ]
     },
     "execution_count": 125,
     "metadata": {},
     "output_type": "execute_result"
    }
   ],
   "source": [
    "df1 = pd.read_pickle(\"df1.pkl\")\n",
    "df1"
   ]
  },
  {
   "cell_type": "code",
   "execution_count": 18,
   "id": "9ffc5fc9",
   "metadata": {},
   "outputs": [
    {
     "data": {
      "text/html": [
       "<div>\n",
       "<style scoped>\n",
       "    .dataframe tbody tr th:only-of-type {\n",
       "        vertical-align: middle;\n",
       "    }\n",
       "\n",
       "    .dataframe tbody tr th {\n",
       "        vertical-align: top;\n",
       "    }\n",
       "\n",
       "    .dataframe thead th {\n",
       "        text-align: right;\n",
       "    }\n",
       "</style>\n",
       "<table border=\"1\" class=\"dataframe\">\n",
       "  <thead>\n",
       "    <tr style=\"text-align: right;\">\n",
       "      <th></th>\n",
       "      <th>name_ranges</th>\n",
       "      <th>sheets</th>\n",
       "      <th>cell_ranges</th>\n",
       "      <th>cell_shapes</th>\n",
       "      <th>cell_values</th>\n",
       "    </tr>\n",
       "  </thead>\n",
       "  <tbody>\n",
       "    <tr>\n",
       "      <th>1</th>\n",
       "      <td>AmountOfEmissionsTable</td>\n",
       "      <td>Environmental Disclosures</td>\n",
       "      <td>$D$80:$K$179</td>\n",
       "      <td>[4, 80, 11, 179]</td>\n",
       "      <td>[[Alachlor, None, None, 567, None, None, None,...</td>\n",
       "    </tr>\n",
       "    <tr>\n",
       "      <th>21</th>\n",
       "      <td>BreakdownOfEnergyConsumptionTable</td>\n",
       "      <td>Environmental Disclosures</td>\n",
       "      <td>$G$12:$K$14</td>\n",
       "      <td>[7, 12, 11, 14]</td>\n",
       "      <td>None</td>\n",
       "    </tr>\n",
       "    <tr>\n",
       "      <th>120</th>\n",
       "      <td>ListOfSitesTable</td>\n",
       "      <td>General Information</td>\n",
       "      <td>$C$450:$H$549</td>\n",
       "      <td>[3, 450, 8, 549]</td>\n",
       "      <td>None</td>\n",
       "    </tr>\n",
       "    <tr>\n",
       "      <th>121</th>\n",
       "      <td>ListOfSubsidiaryTable</td>\n",
       "      <td>General Information</td>\n",
       "      <td>$C$336:$E$435</td>\n",
       "      <td>[3, 336, 5, 435]</td>\n",
       "      <td>[[1, Company XYZ Subsidiary 1, Street XYZ, Cit...</td>\n",
       "    </tr>\n",
       "    <tr>\n",
       "      <th>127</th>\n",
       "      <td>NumberOfEmployeesForCountryOfEmploymentContrac...</td>\n",
       "      <td>Social Disclosures</td>\n",
       "      <td>$C$29:$H$128</td>\n",
       "      <td>[3, 29, 8, 128]</td>\n",
       "      <td>[[Italy, None, 140, None, None, None], [Belgiu...</td>\n",
       "    </tr>\n",
       "    <tr>\n",
       "      <th>155</th>\n",
       "      <td>SitesInBiodiversitySensitiveAreasTable</td>\n",
       "      <td>Environmental Disclosures</td>\n",
       "      <td>$C$188:$K$287</td>\n",
       "      <td>[3, 188, 11, 287]</td>\n",
       "      <td>None</td>\n",
       "    </tr>\n",
       "  </tbody>\n",
       "</table>\n",
       "</div>"
      ],
      "text/plain": [
       "                                           name_ranges  \\\n",
       "1                               AmountOfEmissionsTable   \n",
       "21                   BreakdownOfEnergyConsumptionTable   \n",
       "120                                   ListOfSitesTable   \n",
       "121                              ListOfSubsidiaryTable   \n",
       "127  NumberOfEmployeesForCountryOfEmploymentContrac...   \n",
       "155             SitesInBiodiversitySensitiveAreasTable   \n",
       "\n",
       "                        sheets    cell_ranges        cell_shapes  \\\n",
       "1    Environmental Disclosures   $D$80:$K$179   [4, 80, 11, 179]   \n",
       "21   Environmental Disclosures    $G$12:$K$14    [7, 12, 11, 14]   \n",
       "120        General Information  $C$450:$H$549   [3, 450, 8, 549]   \n",
       "121        General Information  $C$336:$E$435   [3, 336, 5, 435]   \n",
       "127         Social Disclosures   $C$29:$H$128    [3, 29, 8, 128]   \n",
       "155  Environmental Disclosures  $C$188:$K$287  [3, 188, 11, 287]   \n",
       "\n",
       "                                           cell_values  \n",
       "1    [[Alachlor, None, None, 567, None, None, None,...  \n",
       "21                                                None  \n",
       "120                                               None  \n",
       "121  [[1, Company XYZ Subsidiary 1, Street XYZ, Cit...  \n",
       "127  [[Italy, None, 140, None, None, None], [Belgiu...  \n",
       "155                                               None  "
      ]
     },
     "execution_count": 18,
     "metadata": {},
     "output_type": "execute_result"
    }
   ],
   "source": [
    "df[df[\"name_ranges\"].str.contains(\"Table\") == True]"
   ]
  },
  {
   "cell_type": "code",
   "execution_count": null,
   "id": "a9d598d8",
   "metadata": {},
   "outputs": [],
   "source": [
    "df[\"cell_values\"].iloc[0].append([None] for)\n",
    "df[\"cell_values\"].iloc[0]"
   ]
  },
  {
   "cell_type": "code",
   "execution_count": 44,
   "id": "57a35594",
   "metadata": {},
   "outputs": [
    {
     "data": {
      "text/html": [
       "<div>\n",
       "<style scoped>\n",
       "    .dataframe tbody tr th:only-of-type {\n",
       "        vertical-align: middle;\n",
       "    }\n",
       "\n",
       "    .dataframe tbody tr th {\n",
       "        vertical-align: top;\n",
       "    }\n",
       "\n",
       "    .dataframe thead th {\n",
       "        text-align: right;\n",
       "    }\n",
       "</style>\n",
       "<table border=\"1\" class=\"dataframe\">\n",
       "  <thead>\n",
       "    <tr style=\"text-align: right;\">\n",
       "      <th></th>\n",
       "      <th>name_ranges</th>\n",
       "      <th>sheets</th>\n",
       "      <th>cell_ranges</th>\n",
       "      <th>cell_shapes</th>\n",
       "      <th>cell_values</th>\n",
       "    </tr>\n",
       "  </thead>\n",
       "  <tbody>\n",
       "    <tr>\n",
       "      <th>142</th>\n",
       "      <td>RateOfRecordableWorkRelatedAccidentsInTheRepor...</td>\n",
       "      <td>Social Disclosures</td>\n",
       "      <td>$D$143</td>\n",
       "      <td>[4, 143]</td>\n",
       "      <td>None</td>\n",
       "    </tr>\n",
       "  </tbody>\n",
       "</table>\n",
       "</div>"
      ],
      "text/plain": [
       "                                           name_ranges              sheets  \\\n",
       "142  RateOfRecordableWorkRelatedAccidentsInTheRepor...  Social Disclosures   \n",
       "\n",
       "    cell_ranges cell_shapes cell_values  \n",
       "142      $D$143    [4, 143]        None  "
      ]
     },
     "execution_count": 44,
     "metadata": {},
     "output_type": "execute_result"
    }
   ],
   "source": [
    "df[df[\"name_ranges\"] == \"RateOfRecordableWorkRelatedAccidentsInTheReportingPeriod\"]"
   ]
  },
  {
   "cell_type": "code",
   "execution_count": 4,
   "id": "dd45e790",
   "metadata": {},
   "outputs": [
    {
     "data": {
      "text/html": [
       "<div>\n",
       "<style scoped>\n",
       "    .dataframe tbody tr th:only-of-type {\n",
       "        vertical-align: middle;\n",
       "    }\n",
       "\n",
       "    .dataframe tbody tr th {\n",
       "        vertical-align: top;\n",
       "    }\n",
       "\n",
       "    .dataframe thead th {\n",
       "        text-align: right;\n",
       "    }\n",
       "</style>\n",
       "<table border=\"1\" class=\"dataframe\">\n",
       "  <thead>\n",
       "    <tr style=\"text-align: right;\">\n",
       "      <th></th>\n",
       "      <th>name_ranges</th>\n",
       "      <th>sheets</th>\n",
       "      <th>cell_ranges</th>\n",
       "      <th>cell_shapes</th>\n",
       "      <th>cell_values</th>\n",
       "    </tr>\n",
       "  </thead>\n",
       "  <tbody>\n",
       "    <tr>\n",
       "      <th>0</th>\n",
       "      <td>AddressOfSite</td>\n",
       "      <td>General Information</td>\n",
       "      <td>$D$450:$D$549</td>\n",
       "      <td>[4, 450, 4, 549]</td>\n",
       "      <td>[[Duomo Square], [None], [None], [None], [None...</td>\n",
       "    </tr>\n",
       "    <tr>\n",
       "      <th>1</th>\n",
       "      <td>AmountOfEmissionsTable</td>\n",
       "      <td>Environmental Disclosures</td>\n",
       "      <td>$D$80:$K$179</td>\n",
       "      <td>[4, 80, 11, 179]</td>\n",
       "      <td>[[Alachlor, None, None, 567, None, None, None,...</td>\n",
       "    </tr>\n",
       "    <tr>\n",
       "      <th>2</th>\n",
       "      <td>AmountOfEmissionToAir</td>\n",
       "      <td>Environmental Disclosures</td>\n",
       "      <td>$G$80:$I$179</td>\n",
       "      <td>[7, 80, 9, 179]</td>\n",
       "      <td>[[567, None, None], [None, None, None], [None,...</td>\n",
       "    </tr>\n",
       "    <tr>\n",
       "      <th>3</th>\n",
       "      <td>AmountOfEmissionToAir_unit</td>\n",
       "      <td>Environmental Disclosures</td>\n",
       "      <td>$C$78</td>\n",
       "      <td>[3, 78]</td>\n",
       "      <td>[[metric tonnes (t)]]</td>\n",
       "    </tr>\n",
       "    <tr>\n",
       "      <th>4</th>\n",
       "      <td>AmountOfEmissionToSoil</td>\n",
       "      <td>Environmental Disclosures</td>\n",
       "      <td>$K$80:$K$179</td>\n",
       "      <td>[11, 80, 11, 179]</td>\n",
       "      <td>[[None], [67], [None], [None], [None], [None],...</td>\n",
       "    </tr>\n",
       "    <tr>\n",
       "      <th>...</th>\n",
       "      <td>...</td>\n",
       "      <td>...</td>\n",
       "      <td>...</td>\n",
       "      <td>...</td>\n",
       "      <td>...</td>\n",
       "    </tr>\n",
       "    <tr>\n",
       "      <th>291</th>\n",
       "      <td>WasteDivertedToRecycleOrReuseVolume</td>\n",
       "      <td>Environmental Disclosures</td>\n",
       "      <td>$J$323:$J$422</td>\n",
       "      <td>[10, 323, 10, 422]</td>\n",
       "      <td>[[1200], [800], [500], [300], [100], [4000], [...</td>\n",
       "    </tr>\n",
       "    <tr>\n",
       "      <th>292</th>\n",
       "      <td>WasteDivertedToRecycleOrReuseVolume_unit</td>\n",
       "      <td>Environmental Disclosures</td>\n",
       "      <td>$G$323:$I$422</td>\n",
       "      <td>[7, 323, 9, 422]</td>\n",
       "      <td>[[metric tonnes (t), None, None], [kilograms (...</td>\n",
       "    </tr>\n",
       "    <tr>\n",
       "      <th>293</th>\n",
       "      <td>WaterDischargeFromUndertakingProductionProcesses</td>\n",
       "      <td>Environmental Disclosures</td>\n",
       "      <td>$D$310</td>\n",
       "      <td>[4, 310]</td>\n",
       "      <td>[[100]]</td>\n",
       "    </tr>\n",
       "    <tr>\n",
       "      <th>294</th>\n",
       "      <td>WeightOfMaterialUsed</td>\n",
       "      <td>Environmental Disclosures</td>\n",
       "      <td>$G$435:$I$534</td>\n",
       "      <td>[7, 435, 9, 534]</td>\n",
       "      <td>[[1500, None, None], [800, None, None], [None,...</td>\n",
       "    </tr>\n",
       "    <tr>\n",
       "      <th>295</th>\n",
       "      <td>WeightOfMaterialUsed_unit</td>\n",
       "      <td>Environmental Disclosures</td>\n",
       "      <td>$J$435:$J$534</td>\n",
       "      <td>[10, 435, 10, 534]</td>\n",
       "      <td>[[kilograms (kg)], [cubic meters (m3)], [None]...</td>\n",
       "    </tr>\n",
       "  </tbody>\n",
       "</table>\n",
       "<p>203 rows × 5 columns</p>\n",
       "</div>"
      ],
      "text/plain": [
       "                                          name_ranges  \\\n",
       "0                                       AddressOfSite   \n",
       "1                              AmountOfEmissionsTable   \n",
       "2                               AmountOfEmissionToAir   \n",
       "3                          AmountOfEmissionToAir_unit   \n",
       "4                              AmountOfEmissionToSoil   \n",
       "..                                                ...   \n",
       "291               WasteDivertedToRecycleOrReuseVolume   \n",
       "292          WasteDivertedToRecycleOrReuseVolume_unit   \n",
       "293  WaterDischargeFromUndertakingProductionProcesses   \n",
       "294                              WeightOfMaterialUsed   \n",
       "295                         WeightOfMaterialUsed_unit   \n",
       "\n",
       "                        sheets    cell_ranges         cell_shapes  \\\n",
       "0          General Information  $D$450:$D$549    [4, 450, 4, 549]   \n",
       "1    Environmental Disclosures   $D$80:$K$179    [4, 80, 11, 179]   \n",
       "2    Environmental Disclosures   $G$80:$I$179     [7, 80, 9, 179]   \n",
       "3    Environmental Disclosures          $C$78             [3, 78]   \n",
       "4    Environmental Disclosures   $K$80:$K$179   [11, 80, 11, 179]   \n",
       "..                         ...            ...                 ...   \n",
       "291  Environmental Disclosures  $J$323:$J$422  [10, 323, 10, 422]   \n",
       "292  Environmental Disclosures  $G$323:$I$422    [7, 323, 9, 422]   \n",
       "293  Environmental Disclosures         $D$310            [4, 310]   \n",
       "294  Environmental Disclosures  $G$435:$I$534    [7, 435, 9, 534]   \n",
       "295  Environmental Disclosures  $J$435:$J$534  [10, 435, 10, 534]   \n",
       "\n",
       "                                           cell_values  \n",
       "0    [[Duomo Square], [None], [None], [None], [None...  \n",
       "1    [[Alachlor, None, None, 567, None, None, None,...  \n",
       "2    [[567, None, None], [None, None, None], [None,...  \n",
       "3                                [[metric tonnes (t)]]  \n",
       "4    [[None], [67], [None], [None], [None], [None],...  \n",
       "..                                                 ...  \n",
       "291  [[1200], [800], [500], [300], [100], [4000], [...  \n",
       "292  [[metric tonnes (t), None, None], [kilograms (...  \n",
       "293                                            [[100]]  \n",
       "294  [[1500, None, None], [800, None, None], [None,...  \n",
       "295  [[kilograms (kg)], [cubic meters (m3)], [None]...  \n",
       "\n",
       "[203 rows x 5 columns]"
      ]
     },
     "execution_count": 4,
     "metadata": {},
     "output_type": "execute_result"
    }
   ],
   "source": [
    "df = pd.read_pickle(\"df.pkl\")\n",
    "df"
   ]
  }
 ],
 "metadata": {
  "kernelspec": {
   "display_name": "Python 3",
   "language": "python",
   "name": "python3"
  },
  "language_info": {
   "codemirror_mode": {
    "name": "ipython",
    "version": 3
   },
   "file_extension": ".py",
   "mimetype": "text/x-python",
   "name": "python",
   "nbconvert_exporter": "python",
   "pygments_lexer": "ipython3",
   "version": "3.14.0"
  }
 },
 "nbformat": 4,
 "nbformat_minor": 5
}
