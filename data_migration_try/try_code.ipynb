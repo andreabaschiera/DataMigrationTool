{
 "cells": [
  {
   "cell_type": "code",
   "execution_count": null,
   "id": "e06f927b",
   "metadata": {},
   "outputs": [
    {
     "ename": "",
     "evalue": "",
     "output_type": "error",
     "traceback": [
      "\u001b[1;31mRunning cells with 'Python 3.11.9' requires the ipykernel package.\n",
      "\u001b[1;31m<a href='command:jupyter.createPythonEnvAndSelectController'>Create a Python Environment</a> with the required packages.\n",
      "\u001b[1;31mOr install 'ipykernel' using the command: 'c:/Users/Andrea.Baschiera/AppData/Local/Microsoft/WindowsApps/python3.11.exe -m pip install ipykernel -U --user --force-reinstall'"
     ]
    }
   ],
   "source": [
    "from openpyxl import load_workbook\n",
    "\n",
    "def copy_named_ranges(source_path, target_path, output_path):\n",
    "    # Load source and target workbooks\n",
    "    source_wb = load_workbook(source_path)\n",
    "    target_wb = load_workbook(target_path)\n",
    "\n",
    "    # Loop over all defined names in source workbook\n",
    "    for named_range in source_wb.defined_names.definedName:\n",
    "\n",
    "        if named_range.attr_text is None or \"!\" not in named_range.attr_text:\n",
    "            continue  # Skip invalid or non-cell references\n",
    "        \n",
    "        name_str = named_range.name\n",
    "\n",
    "        # Get sheet name and cell range\n",
    "        sheet_name, cell_range = named_range.attr_text.split(\"!\")\n",
    "        sheet_name = sheet_name.strip(\"'\")  # Remove quotes if present\n",
    "\n",
    "        if sheet_name not in source_wb.sheetnames or sheet_name not in target_wb.sheetnames:\n",
    "            continue  # Skip if the sheet does not exist in source workbook\n",
    "\n",
    "        source_sheet = source_wb[sheet_name]\n",
    "        target_sheet = target_wb[sheet_name]\n",
    "        \n",
    "        # Get source and target references\n",
    "        source_cells = source_sheet[cell_range]\n",
    "        target_cells = target_sheet[cell_range]\n",
    "\n",
    "        # Convert to 2D tuples if single cell\n",
    "        if not isinstance(source_cells, tuple):\n",
    "            source_cells = ((source_cells,),)\n",
    "            target_cells = ((target_cells,),)\n",
    "\n",
    "        # Copy values from source to target\n",
    "        for i in range(len(source_cells)):\n",
    "            for j in range(len(source_cells[i])):\n",
    "                target_cells[i][j].value = source_cells[i][j].value\n",
    "\n",
    "        print(f\"Copied named range '{name_str}' from source to target workbook.\")\n",
    "\n",
    "        # Check if the named range already exists in the target workbook\n",
    "        # if name_str not in target_wb.defined_names:\n",
    "        #     target_wb.defined_names.add(named_range)\n",
    "\n",
    "    # Save the modified target workbook\n",
    "    target_wb.save(target_path, )"
   ]
  }
 ],
 "metadata": {
  "kernelspec": {
   "display_name": "Python 3",
   "language": "python",
   "name": "python3"
  },
  "language_info": {
   "name": "python",
   "version": "3.11.9"
  }
 },
 "nbformat": 4,
 "nbformat_minor": 5
}
