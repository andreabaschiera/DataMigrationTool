{
 "cells": [
  {
   "cell_type": "code",
   "execution_count": 13,
   "id": "3ee6f8de",
   "metadata": {},
   "outputs": [],
   "source": [
    "# !pip install openpyxl\n",
    "from openpyxl import load_workbook"
   ]
  },
  {
   "cell_type": "code",
   "execution_count": null,
   "id": "15901d50",
   "metadata": {},
   "outputs": [],
   "source": [
    "# loading workbook and accessing NRs as lists\n",
    "a = load_workbook(\"Template/template 1.0.0.xlsx\")"
   ]
  },
  {
   "cell_type": "code",
   "execution_count": 15,
   "id": "6a8e0141",
   "metadata": {},
   "outputs": [],
   "source": [
    "# accessing NRs as lists\n",
    "all_NRs = a.defined_names\n",
    "list_NRs = list(a.defined_names.keys())"
   ]
  },
  {
   "cell_type": "code",
   "execution_count": 59,
   "id": "fcf1e8bd",
   "metadata": {},
   "outputs": [],
   "source": [
    "# Iterating over NRs and accessing their attributes, storing in dict\n",
    "dict_of_cell_references = {}\n",
    "for NR in list_NRs:\n",
    "    dict_of_cell_references[NR] = all_NRs[NR].attr_text.split(\"!\")[1]"
   ]
  },
  {
   "cell_type": "code",
   "execution_count": null,
   "id": "e3a1dcfd",
   "metadata": {},
   "outputs": [],
   "source": [
    "# Creating shapes of the cell references from ranges\n",
    "dict_of_cell_shapes = {}\n",
    "for i in dict_of_cell_references.keys():\n",
    "    a = dict_of_cell_references[i].split(\"$\")[1:]\n",
    "    for j in range(len(a)):\n",
    "        if j % 2 != 1:\n",
    "            a[j] = letter_to_number(a[j])\n",
    "    if( len(a) == 4 ):\n",
    "        a[1] = a[1][:-1]\n",
    "    dict_of_cell_shapes[i] = a\n",
    "\n",
    "dict_of_cell_shapes"
   ]
  },
  {
   "cell_type": "code",
   "execution_count": 10,
   "id": "0f91a173",
   "metadata": {},
   "outputs": [
    {
     "data": {
      "text/plain": [
       "1"
      ]
     },
     "execution_count": 10,
     "metadata": {},
     "output_type": "execute_result"
    }
   ],
   "source": [
    "def letter_to_number(col):\n",
    "    col = col.upper()\n",
    "    n = 0\n",
    "    for c in col:\n",
    "        if not (\"A\" <= c <= \"Z\"):\n",
    "            raise ValueError(f\"Invalid column letter: {col}\")\n",
    "        n = n * 26 + (ord(c) - ord(\"A\") + 1)\n",
    "    return n\n",
    "\n",
    "# examples\n",
    "letter_to_number(\"A\")   # 1"
   ]
  },
  {
   "cell_type": "code",
   "execution_count": null,
   "id": "ac2ec65b",
   "metadata": {},
   "outputs": [],
   "source": [
    "# condition for seeing whether cell reference is a formula\n",
    "a[\"Social Disclosures\"].cell(row=46, column=4).data_type == \"f\"  # True"
   ]
  },
  {
   "cell_type": "code",
   "execution_count": null,
   "id": "e06f927b",
   "metadata": {},
   "outputs": [
    {
     "ename": "",
     "evalue": "",
     "output_type": "error",
     "traceback": [
      "\u001b[1;31mRunning cells with 'Python 3.11.9' requires the ipykernel package.\n",
      "\u001b[1;31m<a href='command:jupyter.createPythonEnvAndSelectController'>Create a Python Environment</a> with the required packages.\n",
      "\u001b[1;31mOr install 'ipykernel' using the command: 'c:/Users/Andrea.Baschiera/AppData/Local/Microsoft/WindowsApps/python3.11.exe -m pip install ipykernel -U --user --force-reinstall'"
     ]
    }
   ],
   "source": [
    "from openpyxl import load_workbook\n",
    "\n",
    "def copy_named_ranges(source_path, target_path, output_path):\n",
    "    # Load source and target workbooks\n",
    "    source_wb = load_workbook(source_path)\n",
    "    target_wb = load_workbook(target_path)\n",
    "\n",
    "    # Loop over all defined names in source workbook\n",
    "    for named_range in source_wb.defined_names.definedName:\n",
    "\n",
    "        if named_range.attr_text is None or \"!\" not in named_range.attr_text:\n",
    "            continue  # Skip invalid or non-cell references\n",
    "        \n",
    "        name_str = named_range.name\n",
    "\n",
    "        # Get sheet name and cell range\n",
    "        sheet_name, cell_range = named_range.attr_text.split(\"!\")\n",
    "        sheet_name = sheet_name.strip(\"'\")  # Remove quotes if present\n",
    "\n",
    "        if sheet_name not in source_wb.sheetnames or sheet_name not in target_wb.sheetnames:\n",
    "            continue  # Skip if the sheet does not exist in source workbook\n",
    "\n",
    "        source_sheet = source_wb[sheet_name]\n",
    "        target_sheet = target_wb[sheet_name]\n",
    "        \n",
    "        # Get source and target references\n",
    "        source_cells = source_sheet[cell_range]\n",
    "        target_cells = target_sheet[cell_range]\n",
    "\n",
    "        # Convert to 2D tuples if single cell\n",
    "        if not isinstance(source_cells, tuple):\n",
    "            source_cells = ((source_cells,),)\n",
    "            target_cells = ((target_cells,),)\n",
    "\n",
    "        # Copy values from source to target\n",
    "        for i in range(len(source_cells)):\n",
    "            for j in range(len(source_cells[i])):\n",
    "                target_cells[i][j].value = source_cells[i][j].value\n",
    "\n",
    "        print(f\"Copied named range '{name_str}' from source to target workbook.\")\n",
    "\n",
    "        # Check if the named range already exists in the target workbook\n",
    "        # if name_str not in target_wb.defined_names:\n",
    "        #     target_wb.defined_names.add(named_range)\n",
    "\n",
    "    # Save the modified target workbook\n",
    "    target_wb.save(target_path, )"
   ]
  }
 ],
 "metadata": {
  "kernelspec": {
   "display_name": ".venv",
   "language": "python",
   "name": "python3"
  },
  "language_info": {
   "codemirror_mode": {
    "name": "ipython",
    "version": 3
   },
   "file_extension": ".py",
   "mimetype": "text/x-python",
   "name": "python",
   "nbconvert_exporter": "python",
   "pygments_lexer": "ipython3",
   "version": "3.11.9"
  }
 },
 "nbformat": 4,
 "nbformat_minor": 5
}
